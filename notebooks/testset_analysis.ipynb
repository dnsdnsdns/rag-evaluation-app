{
 "cells": [
  {
   "cell_type": "code",
   "execution_count": 2,
   "id": "f6b2cc45",
   "metadata": {},
   "outputs": [],
   "source": [
    "import json\n",
    "from collections import defaultdict"
   ]
  },
  {
   "cell_type": "code",
   "execution_count": 3,
   "id": "3894c2fa",
   "metadata": {},
   "outputs": [],
   "source": [
    "# Datei laden\n",
    "with open(\"validationset.json\", \"r\", encoding=\"utf-8\") as f:\n",
    "    data = json.load(f)"
   ]
  },
  {
   "cell_type": "code",
   "execution_count": 5,
   "id": "7f70da1c",
   "metadata": {},
   "outputs": [
    {
     "name": "stdout",
     "output_type": "stream",
     "text": [
      "singleturn/specific: 92 samples\n",
      "singleturn/seminar-search: 55 samples\n",
      "singleturn/handoff: 57 samples\n",
      "singleturn/out-of-scope: 30 samples\n",
      "singleturn/bad-intentions: 45 samples\n",
      "singleturn/abstract: 30 samples\n",
      "multiturn/specific: 51 samples\n",
      "multiturn/seminar-search: 33 samples\n",
      "multiturn/handoff: 30 samples\n",
      "multiturn/out-of-scope: 24 samples\n",
      "multiturn/bad-intentions: 11 samples\n",
      "multiturn/abstract: 10 samples\n"
     ]
    }
   ],
   "source": [
    "# Anzahl Samples je Kategorie\n",
    "for turn_type in [\"singleturn\", \"multiturn\"]:\n",
    "    for category, sample_list in data[turn_type].items():\n",
    "        num_samples = len(sample_list)\n",
    "        print(f\"{turn_type}/{category}: {num_samples} samples\")"
   ]
  },
  {
   "cell_type": "code",
   "execution_count": 8,
   "id": "833e7198",
   "metadata": {},
   "outputs": [
    {
     "data": {
      "text/plain": [
       "(1581,\n",
       " {'singleturn/specific': 460,\n",
       "  'singleturn/seminar-search': 220,\n",
       "  'singleturn/handoff': 114,\n",
       "  'singleturn/out-of-scope': 60,\n",
       "  'singleturn/bad-intentions': 90,\n",
       "  'singleturn/abstract': 90,\n",
       "  'multiturn/specific': 255,\n",
       "  'multiturn/seminar-search': 132,\n",
       "  'multiturn/handoff': 60,\n",
       "  'multiturn/out-of-scope': 48,\n",
       "  'multiturn/bad-intentions': 22,\n",
       "  'multiturn/abstract': 30})"
      ]
     },
     "execution_count": 8,
     "metadata": {},
     "output_type": "execute_result"
    }
   ],
   "source": [
    "# Evaluierungskriterien\n",
    "criteria = data[\"evaluation_criteria\"]\n",
    "\n",
    "# Sample-Sets\n",
    "samples = {\n",
    "    \"singleturn\": data[\"singleturn\"],\n",
    "    \"multiturn\": data[\"multiturn\"]\n",
    "}\n",
    "\n",
    "# Berechnung der Gesamtanzahl an Beurteilungen\n",
    "total_evaluations = 0\n",
    "evaluations_by_category = defaultdict(int)\n",
    "\n",
    "# Für jede Dialogart (singleturn, multiturn)\n",
    "for turn_type in [\"singleturn\", \"multiturn\"]:\n",
    "    for category, sample_list in samples[turn_type].items():\n",
    "        num_samples = len(sample_list)\n",
    "        num_criteria = len(criteria[turn_type][category])\n",
    "        evaluations = num_samples * num_criteria\n",
    "        total_evaluations += evaluations\n",
    "        evaluations_by_category[f\"{turn_type}/{category}\"] = evaluations\n",
    "\n",
    "total_evaluations, dict(evaluations_by_category)"
   ]
  }
 ],
 "metadata": {
  "kernelspec": {
   "display_name": ".venv",
   "language": "python",
   "name": "python3"
  },
  "language_info": {
   "codemirror_mode": {
    "name": "ipython",
    "version": 3
   },
   "file_extension": ".py",
   "mimetype": "text/x-python",
   "name": "python",
   "nbconvert_exporter": "python",
   "pygments_lexer": "ipython3",
   "version": "3.12.3"
  }
 },
 "nbformat": 4,
 "nbformat_minor": 5
}
